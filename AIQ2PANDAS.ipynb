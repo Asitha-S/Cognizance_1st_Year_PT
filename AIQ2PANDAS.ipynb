{
  "nbformat": 4,
  "nbformat_minor": 0,
  "metadata": {
    "colab": {
      "provenance": []
    },
    "kernelspec": {
      "name": "python3",
      "display_name": "Python 3"
    },
    "language_info": {
      "name": "python"
    }
  },
  "cells": [
    {
      "cell_type": "code",
      "execution_count": 2,
      "metadata": {
        "colab": {
          "base_uri": "https://localhost:8080/"
        },
        "id": "6XEVvxjuXolj",
        "outputId": "49f6e413-764c-4275-d49d-f305ef06cc2a"
      },
      "outputs": [
        {
          "output_type": "stream",
          "name": "stdout",
          "text": [
            "    Height  Weight  Age  Avg_Grade  Courses\n",
            "0      170      65   19         85        5\n",
            "1      180      75   20         90        6\n",
            "2      160      55   18         80        4\n",
            "3      175      70   21         88        7\n",
            "4      155      50   19         82        5\n",
            "5      165      62   22         89        6\n",
            "6      178      80   23         91        7\n",
            "7      162      58   20         78        3\n",
            "8      172      68   19         86        5\n",
            "9      169      66   20         84        4\n",
            "10     171      64   22         87        6\n",
            "11     177      72   21         90        9\n",
            "12     174      76   24         88        8\n",
            "13     158      52   18         75        3\n",
            "14     164      63   19         81        4\n"
          ]
        }
      ],
      "source": [
        "#Question 2.1\n",
        "import pandas as pd\n",
        "data = [\n",
        "    [170, 65, 19, 85, 5],\n",
        "    [180, 75, 20, 90, 6],\n",
        "    [160, 55, 18, 80, 4],\n",
        "    [175, 70, 21, 88, 7],\n",
        "    [155, 50, 19, 82, 5],\n",
        "    [165, 62, 22, 89, 6],\n",
        "    [178, 80, 23, 91, 7],\n",
        "    [162, 58, 20, 78, 3],\n",
        "    [172, 68, 19, 86, 5],\n",
        "    [169, 66, 20, 84, 4],\n",
        "    [171, 64, 22, 87, 6],\n",
        "    [177, 72, 21, 90, 9],\n",
        "    [174, 76, 24, 88, 8],\n",
        "    [158, 52, 18, 75, 3],\n",
        "    [164, 63, 19, 81, 4]\n",
        "]\n",
        "\n",
        "\n",
        "dataframe = pd.DataFrame(data, columns=['Height', 'Weight', 'Age', 'Avg_Grade', 'Courses'])\n",
        "\n",
        "print(dataframe)"
      ]
    },
    {
      "cell_type": "code",
      "source": [
        "#Question 2.2\n",
        "import pandas as pd\n",
        "data = [\n",
        "    [170, 65, 19, 85, 5],\n",
        "    [180, 75, 20, 90, 6],\n",
        "    [160, 55, 18, 80, 4],\n",
        "    [175, 70, 21, 88, 7],\n",
        "    [155, 50, 19, 82, 5],\n",
        "    [165, 62, 22, 89, 6],\n",
        "    [178, 80, 23, 91, 7],\n",
        "    [162, 58, 20, 78, 3],\n",
        "    [172, 68, 19, 86, 5],\n",
        "    [169, 66, 20, 84, 4],\n",
        "    [171, 64, 22, 87, 6],\n",
        "    [177, 72, 21, 90, 9],\n",
        "    [174, 76, 24, 88, 8],\n",
        "    [158, 52, 18, 75, 3],\n",
        "    [164, 63, 19, 81, 4]\n",
        "]\n",
        "df = pd.DataFrame(data, columns=['Height', 'Weight', 'Age', 'Avg_Grade', 'Courses'])\n",
        "describ = df.describe()\n",
        "print(describ)\n"
      ],
      "metadata": {
        "colab": {
          "base_uri": "https://localhost:8080/"
        },
        "id": "TTTE5XDYGyph",
        "outputId": "35a35cf4-3053-48ee-961a-e3410c148129"
      },
      "execution_count": 4,
      "outputs": [
        {
          "output_type": "stream",
          "name": "stdout",
          "text": [
            "           Height     Weight        Age  Avg_Grade    Courses\n",
            "count   15.000000  15.000000  15.000000  15.000000  15.000000\n",
            "mean   168.666667  65.066667  20.333333  84.933333   5.466667\n",
            "std      7.687343   8.811248   1.799471   4.817626   1.767430\n",
            "min    155.000000  50.000000  18.000000  75.000000   3.000000\n",
            "25%    163.000000  60.000000  19.000000  81.500000   4.000000\n",
            "50%    170.000000  65.000000  20.000000  86.000000   5.000000\n",
            "75%    174.500000  71.000000  21.500000  88.500000   6.500000\n",
            "max    180.000000  80.000000  24.000000  91.000000   9.000000\n"
          ]
        }
      ]
    },
    {
      "cell_type": "code",
      "source": [
        "#Question 2.3\n",
        "import pandas as pd\n",
        "data = [\n",
        "    [170, 65, 19, 85, 5],\n",
        "    [180, 75, 20, 90, 6],\n",
        "    [160, 55, 18, 80, 4],\n",
        "    [175, 70, 21, 88, 7],\n",
        "    [155, 50, 19, 82, 5],\n",
        "    [165, 62, 22, 89, 6],\n",
        "    [178, 80, 23, 91, 7],\n",
        "    [162, 58, 20, 78, 3],\n",
        "    [172, 68, 19, 86, 5],\n",
        "    [169, 66, 20, 84, 4],\n",
        "    [171, 64, 22, 87, 6],\n",
        "    [177, 72, 21, 90, 9],\n",
        "    [174, 76, 24, 88, 8],\n",
        "    [158, 52, 18, 75, 3],\n",
        "    [164, 63, 19, 81, 4]\n",
        "]\n",
        "df = pd.DataFrame(data, columns=['Height', 'Weight', 'Age', 'Avg_Grade', 'Courses'])\n",
        "age_num = df['Age'].value_counts()\n",
        "print(age_num)"
      ],
      "metadata": {
        "colab": {
          "base_uri": "https://localhost:8080/"
        },
        "id": "7id2wEwBHdH5",
        "outputId": "5f937480-35c8-40f4-fb20-45a4912aa110"
      },
      "execution_count": 6,
      "outputs": [
        {
          "output_type": "stream",
          "name": "stdout",
          "text": [
            "Age\n",
            "19    4\n",
            "20    3\n",
            "18    2\n",
            "21    2\n",
            "22    2\n",
            "23    1\n",
            "24    1\n",
            "Name: count, dtype: int64\n"
          ]
        }
      ]
    },
    {
      "cell_type": "code",
      "source": [
        "#Question 2.4\n",
        "import pandas as pd\n",
        "data = [\n",
        "    [170, 65, 19, 85, 5],\n",
        "    [180, 75, 20, 90, 6],\n",
        "    [160, 55, 18, 80, 4],\n",
        "    [175, 70, 21, 88, 7],\n",
        "    [155, 50, 19, 82, 5],\n",
        "    [165, 62, 22, 89, 6],\n",
        "    [178, 80, 23, 91, 7],\n",
        "    [162, 58, 20, 78, 3],\n",
        "    [172, 68, 19, 86, 5],\n",
        "    [169, 66, 20, 84, 4],\n",
        "    [171, 64, 22, 87, 6],\n",
        "    [177, 72, 21, 90, 9],\n",
        "    [174, 76, 24, 88, 8],\n",
        "    [158, 52, 18, 75, 3],\n",
        "    [164, 63, 19, 81, 4]\n",
        "]\n",
        "df = pd.DataFrame(data, columns=['Height', 'Weight', 'Age', 'Avg_Grade', 'Courses'])\n",
        "gradeabove = df[(df['Avg_Grade'] > 85) & (df['Courses'] > 4)]\n",
        "print(gradeabove)"
      ],
      "metadata": {
        "colab": {
          "base_uri": "https://localhost:8080/"
        },
        "id": "Rsv7h1-THqlv",
        "outputId": "d9ca5a7c-7aa1-45cc-ee1c-f2f1c4bf3374"
      },
      "execution_count": 7,
      "outputs": [
        {
          "output_type": "stream",
          "name": "stdout",
          "text": [
            "    Height  Weight  Age  Avg_Grade  Courses\n",
            "1      180      75   20         90        6\n",
            "3      175      70   21         88        7\n",
            "5      165      62   22         89        6\n",
            "6      178      80   23         91        7\n",
            "8      172      68   19         86        5\n",
            "10     171      64   22         87        6\n",
            "11     177      72   21         90        9\n",
            "12     174      76   24         88        8\n"
          ]
        }
      ]
    },
    {
      "cell_type": "code",
      "source": [
        "#Question 2.4\n",
        "import pandas as pd\n",
        "data = [\n",
        "    [170, 65, 19, 85, 5],\n",
        "    [180, 75, 20, 90, 6],\n",
        "    [160, 55, 18, 80, 4],\n",
        "    [175, 70, 21, 88, 7],\n",
        "    [155, 50, 19, 82, 5],\n",
        "    [165, 62, 22, 89, 6],\n",
        "    [178, 80, 23, 91, 7],\n",
        "    [162, 58, 20, 78, 3],\n",
        "    [172, 68, 19, 86, 5],\n",
        "    [169, 66, 20, 84, 4],\n",
        "    [171, 64, 22, 87, 6],\n",
        "    [177, 72, 21, 90, 9],\n",
        "    [174, 76, 24, 88, 8],\n",
        "    [158, 52, 18, 75, 3],\n",
        "    [164, 63, 19, 81, 4]\n",
        "]\n",
        "avgs = df.groupby('Age')['Avg_Grade'].mean()\n",
        "print(avgs)"
      ],
      "metadata": {
        "colab": {
          "base_uri": "https://localhost:8080/"
        },
        "id": "nrDsgemBIDwy",
        "outputId": "2ab40132-a8ab-4878-f439-ddeeaa836b2b"
      },
      "execution_count": 8,
      "outputs": [
        {
          "output_type": "stream",
          "name": "stdout",
          "text": [
            "Age\n",
            "18    77.5\n",
            "19    83.5\n",
            "20    84.0\n",
            "21    89.0\n",
            "22    88.0\n",
            "23    91.0\n",
            "24    88.0\n",
            "Name: Avg_Grade, dtype: float64\n"
          ]
        }
      ]
    }
  ]
}