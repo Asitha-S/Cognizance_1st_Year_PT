{
  "nbformat": 4,
  "nbformat_minor": 0,
  "metadata": {
    "colab": {
      "provenance": []
    },
    "kernelspec": {
      "name": "python3",
      "display_name": "Python 3"
    },
    "language_info": {
      "name": "python"
    }
  },
  "cells": [
    {
      "cell_type": "code",
      "execution_count": null,
      "metadata": {
        "colab": {
          "base_uri": "https://localhost:8080/"
        },
        "id": "PfY6FsphvXS1",
        "outputId": "4302685a-839f-45eb-e04f-61ee7f22376a"
      },
      "outputs": [
        {
          "output_type": "stream",
          "name": "stdout",
          "text": [
            "Student\tHeight\tWeight\tAge\tAvg Grade\tCourses\n",
            "Student 1\t170\t65\t19\t85\t\t5\n",
            "Student 2\t180\t75\t20\t90\t\t6\n",
            "Student 3\t160\t55\t18\t80\t\t4\n",
            "Student 4\t175\t70\t21\t88\t\t7\n",
            "Student 5\t155\t50\t19\t82\t\t5\n",
            "Student 6\t165\t62\t22\t89\t\t6\n",
            "Student 7\t178\t80\t23\t91\t\t7\n",
            "Student 8\t162\t58\t20\t78\t\t3\n",
            "Student 9\t172\t68\t19\t86\t\t5\n",
            "Student 10\t169\t66\t20\t84\t\t4\n",
            "Student 11\t171\t64\t22\t87\t\t6\n",
            "Student 12\t177\t72\t21\t90\t\t9\n",
            "Student 13\t174\t76\t24\t88\t\t8\n",
            "Student 14\t158\t52\t18\t75\t\t3\n",
            "Student 15\t164\t63\t19\t81\t\t4\n"
          ]
        }
      ],
      "source": [
        "import numpy as np\n",
        "# Creating a dataset with 15 students and 5 attributes\n",
        "data = np.array([\n",
        "    [170, 65, 19, 85, 5],\n",
        "    [180, 75, 20, 90, 6],\n",
        "    [160, 55, 18, 80, 4],\n",
        "    [175, 70, 21, 88, 7],\n",
        "    [155, 50, 19, 82, 5],\n",
        "    [165, 62, 22, 89, 6],\n",
        "    [178, 80, 23, 91, 7],\n",
        "    [162, 58, 20, 78, 3],\n",
        "    [172, 68, 19, 86, 5],\n",
        "    [169, 66, 20, 84, 4],\n",
        "    [171, 64, 22, 87, 6],\n",
        "    [177, 72, 21, 90, 9],\n",
        "    [174, 76, 24, 88, 8],\n",
        "    [158, 52, 18, 75, 3],\n",
        "    [164, 63, 19, 81, 4]\n",
        "])\n",
        "\n",
        "# Printing the dataset with student labels\n",
        "print(\"Student\\tHeight\\tWeight\\tAge\\tAvg Grade\\tCourses\")\n",
        "for index, student in enumerate(data):\n",
        "    print(f\"Student {index + 1}\\t{student[0]}\\t{student[1]}\\t{student[2]}\\t{student[3]}\\t\\t{student[4]}\")\n",
        "\n"
      ]
    },
    {
      "cell_type": "code",
      "source": [
        "#Question 1.1\n",
        "import numpy as np\n",
        "\n",
        "data = np.array([\n",
        "    [170, 65, 19, 85, 5],\n",
        "    [180, 75, 20, 90, 6],\n",
        "    [160, 55, 18, 80, 4],\n",
        "    [175, 70, 21, 88, 7],\n",
        "    [155, 50, 19, 82, 5],\n",
        "    [165, 62, 22, 89, 6],\n",
        "    [178, 80, 23, 91, 7],\n",
        "    [162, 58, 20, 78, 3],\n",
        "    [172, 68, 19, 86, 5],\n",
        "    [169, 66, 20, 84, 4],\n",
        "    [171, 64, 22, 87, 6],\n",
        "    [177, 72, 21, 90, 9],\n",
        "    [174, 76, 24, 88, 8],\n",
        "    [158, 52, 18, 75, 3],\n",
        "    [164, 63, 19, 81, 4]\n",
        "])\n",
        "\n",
        "heights=data[:,0]\n",
        "avg=np.mean(heights)\n",
        "print(\"The average height of the students is\", avg)"
      ],
      "metadata": {
        "colab": {
          "base_uri": "https://localhost:8080/"
        },
        "id": "c2UKUWrulQeQ",
        "outputId": "9bc2141e-52a4-41f6-d1d3-ec103384a1e6"
      },
      "execution_count": null,
      "outputs": [
        {
          "output_type": "stream",
          "name": "stdout",
          "text": [
            "The average height of the students is 168.66666666666666\n"
          ]
        }
      ]
    },
    {
      "cell_type": "code",
      "source": [
        "#Question 1.2\n",
        "import numpy as np\n",
        "\n",
        "data = np.array([\n",
        "    [170, 65, 19, 85, 5],\n",
        "    [180, 75, 20, 90, 6],\n",
        "    [160, 55, 18, 80, 4],\n",
        "    [175, 70, 21, 88, 7],\n",
        "    [155, 50, 19, 82, 5],\n",
        "    [165, 62, 22, 89, 6],\n",
        "    [178, 80, 23, 91, 7],\n",
        "    [162, 58, 20, 78, 3],\n",
        "    [172, 68, 19, 86, 5],\n",
        "    [169, 66, 20, 84, 4],\n",
        "    [171, 64, 22, 87, 6],\n",
        "    [177, 72, 21, 90, 9],\n",
        "    [174, 76, 24, 88, 8],\n",
        "    [158, 52, 18, 75, 3],\n",
        "    [164, 63, 19, 81, 4]\n",
        "])\n",
        "ages=data[:,2]\n",
        "oldest=np.max(ages)\n",
        "print(\"The oldest age of the students is\", oldest)"
      ],
      "metadata": {
        "colab": {
          "base_uri": "https://localhost:8080/"
        },
        "id": "kQ1wvUsanDGq",
        "outputId": "3a094371-516e-4f13-d45f-711b0d4ebf64"
      },
      "execution_count": 2,
      "outputs": [
        {
          "output_type": "stream",
          "name": "stdout",
          "text": [
            "The oldest age of the students is 24\n"
          ]
        }
      ]
    },
    {
      "cell_type": "code",
      "source": [
        "#Question 1.3\n",
        "import numpy as np\n",
        "\n",
        "data = np.array([\n",
        "    [170, 65, 19, 85, 5],\n",
        "    [180, 75, 20, 90, 6],\n",
        "    [160, 55, 18, 80, 4],\n",
        "    [175, 70, 21, 88, 7],\n",
        "    [155, 50, 19, 82, 5],\n",
        "    [165, 62, 22, 89, 6],\n",
        "    [178, 80, 23, 91, 7],\n",
        "    [162, 58, 20, 78, 3],\n",
        "    [172, 68, 19, 86, 5],\n",
        "    [169, 66, 20, 84, 4],\n",
        "    [171, 64, 22, 87, 6],\n",
        "    [177, 72, 21, 90, 9],\n",
        "    [174, 76, 24, 88, 8],\n",
        "    [158, 52, 18, 75, 3],\n",
        "    [164, 63, 19, 81, 4]\n",
        "])\n",
        "courses=data[:,4]\n",
        "max_index=np.argmax(courses)\n",
        "print(\"The index of student that took the most courses is\", max_index)"
      ],
      "metadata": {
        "colab": {
          "base_uri": "https://localhost:8080/"
        },
        "id": "X_NbSLZwrco1",
        "outputId": "8ab8fbe9-230d-41e4-c21d-19f6d68c0025"
      },
      "execution_count": 3,
      "outputs": [
        {
          "output_type": "stream",
          "name": "stdout",
          "text": [
            "The index of student that took the most courses is 11\n"
          ]
        }
      ]
    },
    {
      "cell_type": "code",
      "source": [
        "#Question 1.4\n",
        "import numpy as np\n",
        "\n",
        "data = np.array([\n",
        "    [170, 65, 19, 85, 5],\n",
        "    [180, 75, 20, 90, 6],\n",
        "    [160, 55, 18, 80, 4],\n",
        "    [175, 70, 21, 88, 7],\n",
        "    [155, 50, 19, 82, 5],\n",
        "    [165, 62, 22, 89, 6],\n",
        "    [178, 80, 23, 91, 7],\n",
        "    [162, 58, 20, 78, 3],\n",
        "    [172, 68, 19, 86, 5],\n",
        "    [169, 66, 20, 84, 4],\n",
        "    [171, 64, 22, 87, 6],\n",
        "    [177, 72, 21, 90, 9],\n",
        "    [174, 76, 24, 88, 8],\n",
        "    [158, 52, 18, 75, 3],\n",
        "    [164, 63, 19, 81, 4]\n",
        "])\n",
        "average_grades = data[:, 3]\n",
        "grades_above_85=average_grades>85\n",
        "num_above_85=np.sum(grades_above_85)\n",
        "print(\"The number of students with grades above 85 is\",num_above_85)"
      ],
      "metadata": {
        "colab": {
          "base_uri": "https://localhost:8080/"
        },
        "id": "XiG8qLSpq5vi",
        "outputId": "3c24f125-b816-4f01-ca29-abd3a0f6fe5b"
      },
      "execution_count": 4,
      "outputs": [
        {
          "output_type": "stream",
          "name": "stdout",
          "text": [
            "The number of students with grades above 85 is 8\n"
          ]
        }
      ]
    },
    {
      "cell_type": "markdown",
      "source": [],
      "metadata": {
        "id": "F0Kx_Ie9mvtP"
      }
    },
    {
      "cell_type": "code",
      "source": [
        "#Question 1.5\n",
        "import numpy as np\n",
        "\n",
        "data = np.array([\n",
        "    [170, 65, 19, 85, 5],\n",
        "    [180, 75, 20, 90, 6],\n",
        "    [160, 55, 18, 80, 4],\n",
        "    [175, 70, 21, 88, 7],\n",
        "    [155, 50, 19, 82, 5],\n",
        "    [165, 62, 22, 89, 6],\n",
        "    [178, 80, 23, 91, 7],\n",
        "    [162, 58, 20, 78, 3],\n",
        "    [172, 68, 19, 86, 5],\n",
        "    [169, 66, 20, 84, 4],\n",
        "    [171, 64, 22, 87, 6],\n",
        "    [177, 72, 21, 90, 9],\n",
        "    [174, 76, 24, 88, 8],\n",
        "    [158, 52, 18, 75, 3],\n",
        "    [164, 63, 19, 81, 4]\n",
        "])\n",
        "age=data[:,2]\n",
        "grade=data[:,3]\n",
        "ratio=age/grade\n",
        "print(f\"students\\tage to grade ratio\")\n",
        "for index, ratio in enumerate(ratio):\n",
        "  print(f\"Student {index+1}\\t{ratio}\")"
      ],
      "metadata": {
        "colab": {
          "base_uri": "https://localhost:8080/"
        },
        "id": "38kEfEyNBrnO",
        "outputId": "f26a9113-cd2b-45bb-a1b7-5382b1fc40f8"
      },
      "execution_count": null,
      "outputs": [
        {
          "output_type": "stream",
          "name": "stdout",
          "text": [
            "students\tage to grade ratio\n",
            "Student 1\t0.2235294117647059\n",
            "Student 2\t0.2222222222222222\n",
            "Student 3\t0.225\n",
            "Student 4\t0.23863636363636365\n",
            "Student 5\t0.23170731707317074\n",
            "Student 6\t0.24719101123595505\n",
            "Student 7\t0.25274725274725274\n",
            "Student 8\t0.2564102564102564\n",
            "Student 9\t0.22093023255813954\n",
            "Student 10\t0.23809523809523808\n",
            "Student 11\t0.25287356321839083\n",
            "Student 12\t0.23333333333333334\n",
            "Student 13\t0.2727272727272727\n",
            "Student 14\t0.24\n",
            "Student 15\t0.2345679012345679\n"
          ]
        }
      ]
    }
  ]
}